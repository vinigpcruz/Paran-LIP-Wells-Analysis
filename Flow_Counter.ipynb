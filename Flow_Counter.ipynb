{
 "cells": [
  {
   "cell_type": "markdown",
   "id": "completed-ownership",
   "metadata": {},
   "source": [
    "## Importing libraries and data"
   ]
  },
  {
   "cell_type": "code",
   "execution_count": 2,
   "id": "athletic-watts",
   "metadata": {},
   "outputs": [],
   "source": [
    "# Importing libraries\n",
    "import pandas as pd"
   ]
  },
  {
   "cell_type": "code",
   "execution_count": 3,
   "id": "played-shame",
   "metadata": {},
   "outputs": [
    {
     "data": {
      "text/html": [
       "<div>\n",
       "<style scoped>\n",
       "    .dataframe tbody tr th:only-of-type {\n",
       "        vertical-align: middle;\n",
       "    }\n",
       "\n",
       "    .dataframe tbody tr th {\n",
       "        vertical-align: top;\n",
       "    }\n",
       "\n",
       "    .dataframe thead th {\n",
       "        text-align: right;\n",
       "    }\n",
       "</style>\n",
       "<table border=\"1\" class=\"dataframe\">\n",
       "  <thead>\n",
       "    <tr style=\"text-align: right;\">\n",
       "      <th></th>\n",
       "      <th>Well</th>\n",
       "      <th>Unit</th>\n",
       "      <th>Facies</th>\n",
       "      <th>Facies Thickness</th>\n",
       "      <th>Flow thickness</th>\n",
       "      <th>Core Proportion</th>\n",
       "    </tr>\n",
       "  </thead>\n",
       "  <tbody>\n",
       "    <tr>\n",
       "      <th>0</th>\n",
       "      <td>1-AV-001-PR</td>\n",
       "      <td>Paranapanema</td>\n",
       "      <td>Simple lava (basic | U. crust)</td>\n",
       "      <td>1,76</td>\n",
       "      <td>NaN</td>\n",
       "      <td>NaN</td>\n",
       "    </tr>\n",
       "    <tr>\n",
       "      <th>1</th>\n",
       "      <td>1-AV-001-PR</td>\n",
       "      <td>Paranapanema</td>\n",
       "      <td>Simple lava (basic | massive interior)</td>\n",
       "      <td>2,16</td>\n",
       "      <td>2,16</td>\n",
       "      <td>NaN</td>\n",
       "    </tr>\n",
       "    <tr>\n",
       "      <th>2</th>\n",
       "      <td>1-AV-001-PR</td>\n",
       "      <td>Paranapanema</td>\n",
       "      <td>Simple lava (basic | L. crust)</td>\n",
       "      <td>4,48</td>\n",
       "      <td>13,36</td>\n",
       "      <td>0,616766467</td>\n",
       "    </tr>\n",
       "    <tr>\n",
       "      <th>3</th>\n",
       "      <td>1-AV-001-PR</td>\n",
       "      <td>Paranapanema</td>\n",
       "      <td>Siliciclastics</td>\n",
       "      <td>8,24</td>\n",
       "      <td>NaN</td>\n",
       "      <td>NaN</td>\n",
       "    </tr>\n",
       "    <tr>\n",
       "      <th>4</th>\n",
       "      <td>1-AV-001-PR</td>\n",
       "      <td>Paranapanema</td>\n",
       "      <td>Simple lava (basic | U. crust)</td>\n",
       "      <td>0,64</td>\n",
       "      <td>NaN</td>\n",
       "      <td>NaN</td>\n",
       "    </tr>\n",
       "  </tbody>\n",
       "</table>\n",
       "</div>"
      ],
      "text/plain": [
       "          Well          Unit                                   Facies  \\\n",
       "0  1-AV-001-PR  Paranapanema           Simple lava (basic | U. crust)   \n",
       "1  1-AV-001-PR  Paranapanema  Simple lava (basic | massive interior)    \n",
       "2  1-AV-001-PR  Paranapanema           Simple lava (basic | L. crust)   \n",
       "3  1-AV-001-PR  Paranapanema                           Siliciclastics   \n",
       "4  1-AV-001-PR  Paranapanema           Simple lava (basic | U. crust)   \n",
       "\n",
       "  Facies Thickness Flow thickness Core Proportion  \n",
       "0             1,76            NaN             NaN  \n",
       "1             2,16           2,16             NaN  \n",
       "2             4,48          13,36     0,616766467  \n",
       "3             8,24            NaN             NaN  \n",
       "4             0,64            NaN             NaN  "
      ]
     },
     "execution_count": 3,
     "metadata": {},
     "output_type": "execute_result"
    }
   ],
   "source": [
    "# Reading .csv\n",
    "data = pd.read_csv(r'Data/CSV/1-AV-001-PR.csv', sep=';')\n",
    "data.head()\n",
    "\n",
    "# Dropping rows with NaN for facies thickness -- TODO"
   ]
  },
  {
   "cell_type": "markdown",
   "id": "scheduled-setup",
   "metadata": {},
   "source": [
    "## Flow Counter Algorithm"
   ]
  },
  {
   "cell_type": "code",
   "execution_count": 6,
   "id": "pediatric-sunrise",
   "metadata": {},
   "outputs": [
    {
     "name": "stdout",
     "output_type": "stream",
     "text": [
      "{'Simple lava (basic | U. crust)': 1, 'Paranapanema': 33, 'Pitanga': 34, 'Vale do Sol': 1}\n",
      "[1, 1, 1, '-', 2, 2, 2, '-', 3, 3, 3, '-', 4, 4, 4, 5, '-', 6, 7, 7, 7, 8, 9, 9, 9, '-', 10, 10, 10, '-', 11, 11, 11, '-', 12, 12, 12, '-', 13, 13, 13, 14, 14, 14, '-', 15, 16, 16, 16, 17, 18, 18, 18, '-', 19, 19, 19, '-', 20, 20, 20, 21, '-', 22, 22, 22, '-', 23, 24, 24, 24, '-', 25, 25, 25, 26, 26, 26, '-', 27, 27, 27, 1, 1, 1, 2, 3, 3, 3, 4, 28, 28, 28, '-', 29, 30, 30, 30, 31, 32, 32, 32, '-', 5, '-', 5, 6, 6, 6, '-', 7, 8, 8, 8, 9, 10, 11, 11, 11, '-', 12, 12, 12, '-', 13, 13, 13, 14, 14, 14, '-', 15, 16, 16, 16, 17, 17, 17, 18, '-', 19, 19, 19, 20, 20, 20, 21, 21, 21, '-', 22, 22, 22, 23, 24, 24, 24, '-', 25, 25, 25, 26, 26, 26, '-', 27, 28, 28, 28, 29, 29, 29, '-', 30, 30, 30, 31, 32, 32, 32, '-', 33, 33, 33, 1, 1, 1]\n"
     ]
    }
   ],
   "source": [
    "# Flow Counter v2 -- Accounting for Unit Intercalation\n",
    "\n",
    "\n",
    "# Setting up variables\n",
    "flow_counter = 0\n",
    "flow_list = []\n",
    "flow_dict = {}\n",
    "\n",
    "# Algorithm\n",
    "for i in range(len(data)):\n",
    "    if i==0: # Setting up the first iteration]\n",
    "        flow_counter += 1\n",
    "        flow_dict[data['Facies'].iloc[i]] = flow_counter\n",
    "        flow_list.append(flow_counter)\n",
    "    elif i == (len(data)-1): # Checking for the end of the list (working around out-of-bounds bug)\n",
    "        flow_list.append(flow_counter)\n",
    "        break\n",
    "    elif data['Facies'].iloc[i] == \"Siliciclastics\" or data['Facies'].iloc[i] == \"Volcaniclastics (undiff.)\": # Check for siliciclastic OR volcaniclastic; append a \"-\" for these units:\n",
    "        flow_list.append('-')        \n",
    "    else: # If we're indeed dealing with lava flow data  \n",
    "        if data['Unit'].iloc[i] == data['Unit'].iloc[i-1]: # If unit is the same as before\n",
    "            if data['Facies'].iloc[i] == 'Simple lava (basic | L. crust)' or data['Facies'].iloc[i] == 'Compound lava (basic)': # Check for Simple lower crust OR compound flows:\n",
    "                flow_list.append(flow_counter)\n",
    "                flow_counter += 1\n",
    "            else:\n",
    "                flow_list.append(flow_counter)\n",
    "        else: # If Unit changes\n",
    "            if data['Unit'].iloc[i] in flow_dict: # If unit has already been added as a key to the flow_dict\n",
    "                flow_dict[data['Unit'].iloc[i-1]] = flow_counter\n",
    "                flow_counter = flow_dict[data['Unit'].iloc[i]]\n",
    "                flow_list.append(flow_counter)\n",
    "            else: # If unit is NOT already associated with a value in the flow_dict\n",
    "                flow_dict[data['Unit'].iloc[i-1]] = flow_counter\n",
    "                flow_counter = 1\n",
    "                flow_dict[data['Unit'].iloc[i]] = flow_counter\n",
    "                flow_list.append(flow_counter)\n",
    "                \n",
    "print(flow_dict)\n",
    "print(flow_list)"
   ]
  },
  {
   "cell_type": "markdown",
   "id": "practical-edinburgh",
   "metadata": {},
   "source": [
    "## Putting the algorithm inside a function for better functionality"
   ]
  },
  {
   "cell_type": "code",
   "execution_count": null,
   "id": "golden-combining",
   "metadata": {},
   "outputs": [],
   "source": []
  },
  {
   "cell_type": "markdown",
   "id": "independent-essex",
   "metadata": {},
   "source": [
    "## Others /// Notes:"
   ]
  },
  {
   "cell_type": "raw",
   "id": "great-nashville",
   "metadata": {},
   "source": [
    "# Flow Counter v1\n",
    "# PROBLEM: It does not account for the possibility of 'unit' intercalation!!\n",
    "\n",
    "# Setting up variables\n",
    "flow_counter = 0\n",
    "flow_list = []\n",
    "\n",
    "# Algorithm\n",
    "for i in range(len(data)):\n",
    "    # Checking for \"unit\" changes in order to reset flow counter\n",
    "    if i==0:\n",
    "        flow_counter += 1\n",
    "        flow_list.append(flow_counter)\n",
    "    # Checking for the end of the list (working around out-of-bounds bug)\n",
    "    elif i == (len(data)-1):\n",
    "        flow_list.append(flow_counter)\n",
    "        break\n",
    "    # Check for siliciclastic and volcaniclastic; append a \"-\"\n",
    "    elif data['Facies'].iloc[i] == \"Siliciclastics\" or data['Facies'].iloc[i] == \"Volcaniclastics (undiff.)\":\n",
    "        flow_list.append('-')\n",
    "    # If we're indeed dealing with lava flow data        \n",
    "    else:  \n",
    "        # If unit is the same as before\n",
    "        if data['Unit'].iloc[i] == data['Unit'].iloc[i-1]:\n",
    "            # Check for Simple lower crust OR compound flows:\n",
    "            if data['Facies'].iloc[i] == 'Simple lava (basic | L. crust)' or data['Facies'].iloc[i] == 'Compound lava (basic)':\n",
    "                flow_list.append(flow_counter)\n",
    "                flow_counter += 1\n",
    "            else:\n",
    "                flow_list.append(flow_counter)\n",
    "        # If Unit changes\n",
    "        else:\n",
    "            flow_counter = 1\n",
    "            flow_list.append(flow_counter)"
   ]
  },
  {
   "cell_type": "code",
   "execution_count": null,
   "id": "light-discrimination",
   "metadata": {},
   "outputs": [],
   "source": []
  }
 ],
 "metadata": {
  "kernelspec": {
   "display_name": "Python 3",
   "language": "python",
   "name": "python3"
  },
  "language_info": {
   "codemirror_mode": {
    "name": "ipython",
    "version": 3
   },
   "file_extension": ".py",
   "mimetype": "text/x-python",
   "name": "python",
   "nbconvert_exporter": "python",
   "pygments_lexer": "ipython3",
   "version": "3.8.5"
  }
 },
 "nbformat": 4,
 "nbformat_minor": 5
}
