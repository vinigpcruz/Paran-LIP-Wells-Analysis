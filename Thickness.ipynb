{
 "cells": [
  {
   "cell_type": "markdown",
   "id": "trying-replacement",
   "metadata": {},
   "source": [
    "# Thickness\n",
    "* This Notebook is used to calculate several thickness-related propeties from the WellCad data\n",
    "Main parts include:\n",
    "- A cumulative thickness per geochem group function/algorithm\n",
    "- XXXXXXXXXXXXXXXXXXXXXXX"
   ]
  },
  {
   "cell_type": "markdown",
   "id": "grave-speech",
   "metadata": {},
   "source": [
    "## Importing Libraries and Data"
   ]
  },
  {
   "cell_type": "code",
   "execution_count": 27,
   "id": "pretty-gauge",
   "metadata": {},
   "outputs": [
    {
     "data": {
      "text/html": [
       "<div>\n",
       "<style scoped>\n",
       "    .dataframe tbody tr th:only-of-type {\n",
       "        vertical-align: middle;\n",
       "    }\n",
       "\n",
       "    .dataframe tbody tr th {\n",
       "        vertical-align: top;\n",
       "    }\n",
       "\n",
       "    .dataframe thead th {\n",
       "        text-align: right;\n",
       "    }\n",
       "</style>\n",
       "<table border=\"1\" class=\"dataframe\">\n",
       "  <thead>\n",
       "    <tr style=\"text-align: right;\">\n",
       "      <th></th>\n",
       "      <th>Well</th>\n",
       "      <th>Unit</th>\n",
       "      <th>Facies</th>\n",
       "      <th>Facies Thickness</th>\n",
       "      <th>Flow thickness</th>\n",
       "      <th>Core Proportion</th>\n",
       "    </tr>\n",
       "  </thead>\n",
       "  <tbody>\n",
       "    <tr>\n",
       "      <th>0</th>\n",
       "      <td>1-CS-002-PR</td>\n",
       "      <td>Paranapanema</td>\n",
       "      <td>Simple lava (basic | massive interior)</td>\n",
       "      <td>3.65</td>\n",
       "      <td>NaN</td>\n",
       "      <td>NaN</td>\n",
       "    </tr>\n",
       "    <tr>\n",
       "      <th>1</th>\n",
       "      <td>1-CS-002-PR</td>\n",
       "      <td>Paranapanema</td>\n",
       "      <td>Simple lava (basic | L. crust)</td>\n",
       "      <td>1.12</td>\n",
       "      <td>NaN</td>\n",
       "      <td>NaN</td>\n",
       "    </tr>\n",
       "    <tr>\n",
       "      <th>2</th>\n",
       "      <td>1-CS-002-PR</td>\n",
       "      <td>Paranapanema</td>\n",
       "      <td>Siliciclastics</td>\n",
       "      <td>1.52</td>\n",
       "      <td>NaN</td>\n",
       "      <td>NaN</td>\n",
       "    </tr>\n",
       "    <tr>\n",
       "      <th>3</th>\n",
       "      <td>1-CS-002-PR</td>\n",
       "      <td>Paranapanema</td>\n",
       "      <td>Simple lava (basic | U. crust)</td>\n",
       "      <td>11.60</td>\n",
       "      <td>37.28</td>\n",
       "      <td>0.650215</td>\n",
       "    </tr>\n",
       "    <tr>\n",
       "      <th>4</th>\n",
       "      <td>1-CS-002-PR</td>\n",
       "      <td>Paranapanema</td>\n",
       "      <td>Simple lava (basic | massive interior)</td>\n",
       "      <td>24.24</td>\n",
       "      <td>NaN</td>\n",
       "      <td>NaN</td>\n",
       "    </tr>\n",
       "  </tbody>\n",
       "</table>\n",
       "</div>"
      ],
      "text/plain": [
       "          Well          Unit                                  Facies  \\\n",
       "0  1-CS-002-PR  Paranapanema  Simple lava (basic | massive interior)   \n",
       "1  1-CS-002-PR  Paranapanema          Simple lava (basic | L. crust)   \n",
       "2  1-CS-002-PR  Paranapanema                          Siliciclastics   \n",
       "3  1-CS-002-PR  Paranapanema          Simple lava (basic | U. crust)   \n",
       "4  1-CS-002-PR  Paranapanema  Simple lava (basic | massive interior)   \n",
       "\n",
       "   Facies Thickness  Flow thickness  Core Proportion  \n",
       "0              3.65             NaN              NaN  \n",
       "1              1.12             NaN              NaN  \n",
       "2              1.52             NaN              NaN  \n",
       "3             11.60           37.28         0.650215  \n",
       "4             24.24             NaN              NaN  "
      ]
     },
     "execution_count": 27,
     "metadata": {},
     "output_type": "execute_result"
    }
   ],
   "source": [
    "# Importing libraries\n",
    "import pandas as pd\n",
    "import re\n",
    "\n",
    "# Reading .csv\n",
    "# data = pd.read_csv(r'Data/CSV/1-AV-001-PR.csv', sep=';', decimal=',') ## Dataset1\n",
    "data = pd.read_csv(r'Data/CSV/1-CS-002-PR.csv', sep=';', decimal=',') ##Dataset2\n",
    "data.head()"
   ]
  },
  {
   "cell_type": "markdown",
   "id": "floral-concentration",
   "metadata": {},
   "source": [
    "## Cumulative thickness of lava flows per geochem group\n",
    "-----------------------------------------------------------------------------------------------------------------   \n",
    "* This code runs throught the WellCad data and calculates the following:\n",
    "    * Cumulative thickness of lavas per geochem group\n",
    "    * Cumulative thickness of sedimentary beds per geochem group\n",
    "    * Cumulative thickness of volcaniclastic beds per geochem group\n",
    "-----------------------------------------------------------------------------------------------------------------   "
   ]
  },
  {
   "cell_type": "code",
   "execution_count": 25,
   "id": "nasty-brooklyn",
   "metadata": {},
   "outputs": [],
   "source": [
    "## Cumulative thickness function definition v0.1\n",
    "\n",
    "def cum_thickness (data, thick_dict, cumul_thick):\n",
    "    'Calculates the cumulative thickness of lava flows per geochemical group'\n",
    "    'Input: data - pandas df derived from wellcad int; thick_dict - empty dict to append unit:cul_thick pair; cumul_thick - empty list to append data to' \n",
    "    'Output: a dictionary contaning (unit:cumulative thickness) \n",
    "    'Output: a list with the same number of elements as input data containing cumulative flow thickness values. Used as a new row for input dataframe'\n",
    "    \n",
    "    # defining variables\n",
    "    thick_counter = 0\n",
    "    \n",
    "    # Algorithm:\n",
    "    for i in range(len(data)):\n",
    "        if i == 0: # Setting up first iteration\n",
    "            if data['Facies'].iloc[i] == 'Simple lava (basic | U. crust)' or data['Facies'].iloc[i] == 'Compound lava (basic)' \\\n",
    "            or data['Facies'].iloc[i] == 'Simple lava (basic | rubbly flow top)': # If we're dealing with a new lava flow, grab thickness\n",
    "                thick_counter += round(data['Flow thickness'].iloc[i])\n",
    "                thick_dict[data['Unit'].iloc[i]] = round(thick_counter)\n",
    "                cumul_thick.append(thick_counter)\n",
    "            else:\n",
    "                cumul_thick.append('0')\n",
    "        else: # After first iteration\n",
    "            if data['Unit'].iloc[i] == data['Unit'].iloc[i-1]: # If unit is the same as before, keep going.\n",
    "                if data['Facies'].iloc[i] == 'Simple lava (basic | U. crust)' or data['Facies'].iloc[i] == 'Compound lava (basic)' \\\n",
    "                or data['Facies'].iloc[i] == 'Simple lava (basic | rubbly flow top)': # Look for facies with flow thickness data\n",
    "                    thick_counter += round(data['Flow thickness'].iloc[i])\n",
    "                    thick_dict[data['Unit'].iloc[i]] = round(thick_counter)\n",
    "                    cumul_thick.append(thick_counter)\n",
    "                else: # If no row with flow thickness data is being iterated\n",
    "                    if re.search(r'\\slava\\s', data['Facies'].iloc[i]) != None: # If facies contain the word 'lava':\n",
    "                        cumul_thick.append(thick_counter)\n",
    "                    else:\n",
    "                        cumul_thick.append('-')\n",
    "            else: # If unit changes\n",
    "                if data['Unit'].iloc[i] in thick_dict:  # If unit has already been added as a key to the thick_dict\n",
    "                    thick_dict[data['Unit'].iloc[i-1]] = round(thick_counter)\n",
    "                    thick_counter = round(thick_dict[data['Unit'].iloc[i]])\n",
    "                    cumul_thick.append(thick_counter)\n",
    "                else: # If a new unit is found\n",
    "                    thick_dict[data['Unit'].iloc[i-1]] = round(thick_counter)\n",
    "                    thick_counter = round(data['Flow thickness'].iloc[i])\n",
    "                    thick_dict[data['Unit'].iloc[i]] = round(thick_counter)\n",
    "                    cumul_thick.append(thick_counter)\n",
    "                               \n",
    "  "
   ]
  },
  {
   "cell_type": "code",
   "execution_count": 28,
   "id": "nonprofit-steering",
   "metadata": {},
   "outputs": [
    {
     "name": "stdout",
     "output_type": "stream",
     "text": [
      "{'Paranapanema': 37, 'Pitanga': 435, 'Esmeralda': 249, 'Vale do Sol': 135} ['0', 0, '-', 37, 37, 37, 3, 35, 35, 35, 58, 58, 58, 97, 97, 97, '-', 111, 117, 117, 117, 122, '-', 143, 143, 143, '-', 199, 199, 199, '-', 207, 272, 272, 272, '-', 306, 306, 306, 325, 325, 325, '-', 351, 351, 351, '-', 382, 382, 382, '-', 409, 409, 409, 435, 435, 435, 13, 26, 26, 26, '-', 75, 75, 75, '-', 87, 87, 87, '-', 158, 158, 158, 166, '-', 179, 179, 179, 195, 195, 195, 207, 207, 207, '-', 249, 249, 249, '-', 7, 14, 14, 14, 52, 52, 52, 63, 101, 101, 101, '-', 135, 135, 135]\n"
     ]
    }
   ],
   "source": [
    "# Testing / Debugging\n",
    "cs_pr_dict = {}\n",
    "cs_pr_list = []\n",
    "\n",
    "cum_thickness(data, cs_pr_dict, cs_pr_list)\n",
    "print(cs_pr_dict, cs_pr_list)"
   ]
  },
  {
   "cell_type": "markdown",
   "id": "rational-shoot",
   "metadata": {},
   "source": [
    "-------------------------------------------------------------------------\n",
    "# SEPARATION CELL\n",
    "-------------------------------------------------------------------------"
   ]
  },
  {
   "cell_type": "code",
   "execution_count": null,
   "id": "orange-rebel",
   "metadata": {},
   "outputs": [],
   "source": [
    "## Cumulative thickness of lavas per geochem v0.2\n",
    "# Output:\n",
    "#   --> thick_dict (dict) containg the thickness of lava flow per geochem group\n",
    "#   --> A cumulative thickness row is added to the data table.\n",
    "## PROBLEMS --> Reallyyy verbose. Let's try to generalize this a bit by using regex expressions.\n",
    "\n",
    "\n",
    "# Setting up variables:\n",
    "thick_counter = 0\n",
    "cumul_thick = []\n",
    "thick_dict = {}\n",
    "\n",
    "# Algorithm:\n",
    "for i in range(len(data)):\n",
    "    if i == 0: # Setting up first iteration\n",
    "        if data['Facies'].iloc[i] == 'Simple lava (basic | U. crust)' or data['Facies'].iloc[i] == 'Compound lava (basic)' \\\n",
    "        or data['Facies'].iloc[i] == 'Simple lava (basic | rubbly flow top)': # If we're dealing with a new lava flow, grab thickness\n",
    "            thick_counter += round(data['Flow thickness'].iloc[i])\n",
    "            thick_dict[data['Unit'].iloc[i]] = round(thick_counter)\n",
    "            cumul_thick.append(thick_counter)\n",
    "        else:\n",
    "            cumul_thick.append('0')\n",
    "    else: # After first iteration\n",
    "        if data['Unit'].iloc[i] == data['Unit'].iloc[i-1]: # If unit is the same as before, keep going.\n",
    "            if data['Facies'].iloc[i] == 'Simple lava (basic | U. crust)' or data['Facies'].iloc[i] == 'Compound lava (basic)' \\\n",
    "            or data['Facies'].iloc[i] == 'Simple lava (basic | rubbly flow top)': # Look for facies with flow thickness data\n",
    "                thick_counter += round(data['Flow thickness'].iloc[i])\n",
    "                thick_dict[data['Unit'].iloc[i]] = round(thick_counter)\n",
    "                cumul_thick.append(thick_counter)\n",
    "            else: # If no row with flow thickness data is being iterated\n",
    "                if re.search(r'\\slava\\s', data['Facies'].iloc[i]) != None: # If facies contain the word 'lava':\n",
    "                    cumul_thick.append(thick_counter)\n",
    "                else:\n",
    "                    cumul_thick.append('-')\n",
    "        else: # If unit changes\n",
    "            if data['Unit'].iloc[i] in thick_dict:  # If unit has already been added as a key to the thick_dict\n",
    "                thick_dict[data['Unit'].iloc[i-1]] = round(thick_counter)\n",
    "                thick_counter = round(thick_dict[data['Unit'].iloc[i]])\n",
    "                cumul_thick.append(thick_counter)\n",
    "            else: # If a new unit is found\n",
    "                thick_dict[data['Unit'].iloc[i-1]] = round(thick_counter)\n",
    "                thick_counter = round(data['Flow thickness'].iloc[i])\n",
    "                thick_dict[data['Unit'].iloc[i]] = round(thick_counter)\n",
    "                cumul_thick.append(thick_counter)\n",
    "\n",
    "# Checking\n",
    "print(thick_dict)\n",
    "data['Cumul thick'] = cumul_thick\n",
    "data.head(84)"
   ]
  },
  {
   "cell_type": "code",
   "execution_count": null,
   "id": "continuous-frank",
   "metadata": {},
   "outputs": [],
   "source": [
    "# Regex debugging \n",
    "if re.search(r'\\sU.\\s', data['Facies'].iloc[0]) != None:\n",
    "    print('Working!')\n",
    "else:\n",
    "    print('Not working :(')"
   ]
  },
  {
   "cell_type": "code",
   "execution_count": null,
   "id": "naked-improvement",
   "metadata": {},
   "outputs": [],
   "source": [
    "x = re.split(r'\\s', data['Facies'].iloc[0])\n",
    "print(re.search(r'U.', data['Facies'].iloc[0]))"
   ]
  },
  {
   "cell_type": "code",
   "execution_count": null,
   "id": "standing-yeast",
   "metadata": {},
   "outputs": [],
   "source": []
  }
 ],
 "metadata": {
  "kernelspec": {
   "display_name": "Python 3",
   "language": "python",
   "name": "python3"
  },
  "language_info": {
   "codemirror_mode": {
    "name": "ipython",
    "version": 3
   },
   "file_extension": ".py",
   "mimetype": "text/x-python",
   "name": "python",
   "nbconvert_exporter": "python",
   "pygments_lexer": "ipython3",
   "version": "3.8.5"
  }
 },
 "nbformat": 4,
 "nbformat_minor": 5
}
