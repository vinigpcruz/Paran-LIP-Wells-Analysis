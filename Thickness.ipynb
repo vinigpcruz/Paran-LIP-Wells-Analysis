{
 "cells": [
  {
   "cell_type": "markdown",
   "id": "creative-sense",
   "metadata": {},
   "source": [
    "# Thickness\n",
    "* This Notebook is used to calculate several thickness-related propeties from the WellCad data\n",
    "Main parts include:\n",
    "- A cumulative thickness per geochem group function/algorithm\n",
    "- XXXXXXXXXXXXXXXXXXXXXXX"
   ]
  },
  {
   "cell_type": "markdown",
   "id": "consolidated-idaho",
   "metadata": {},
   "source": [
    "## Importing Libraries and Data"
   ]
  },
  {
   "cell_type": "code",
   "execution_count": 1,
   "id": "sought-triumph",
   "metadata": {},
   "outputs": [
    {
     "data": {
      "text/html": [
       "<div>\n",
       "<style scoped>\n",
       "    .dataframe tbody tr th:only-of-type {\n",
       "        vertical-align: middle;\n",
       "    }\n",
       "\n",
       "    .dataframe tbody tr th {\n",
       "        vertical-align: top;\n",
       "    }\n",
       "\n",
       "    .dataframe thead th {\n",
       "        text-align: right;\n",
       "    }\n",
       "</style>\n",
       "<table border=\"1\" class=\"dataframe\">\n",
       "  <thead>\n",
       "    <tr style=\"text-align: right;\">\n",
       "      <th></th>\n",
       "      <th>Well</th>\n",
       "      <th>Unit</th>\n",
       "      <th>Facies</th>\n",
       "      <th>Facies Thickness</th>\n",
       "      <th>Flow thickness</th>\n",
       "      <th>Core Proportion</th>\n",
       "    </tr>\n",
       "  </thead>\n",
       "  <tbody>\n",
       "    <tr>\n",
       "      <th>0</th>\n",
       "      <td>1-AV-001-PR</td>\n",
       "      <td>Paranapanema</td>\n",
       "      <td>Simple lava (basic | U. crust)</td>\n",
       "      <td>11,2</td>\n",
       "      <td>31,36</td>\n",
       "      <td>0,589285714</td>\n",
       "    </tr>\n",
       "    <tr>\n",
       "      <th>1</th>\n",
       "      <td>1-AV-001-PR</td>\n",
       "      <td>Paranapanema</td>\n",
       "      <td>Simple lava (basic | massive interior)</td>\n",
       "      <td>18,48</td>\n",
       "      <td>NaN</td>\n",
       "      <td>NaN</td>\n",
       "    </tr>\n",
       "    <tr>\n",
       "      <th>2</th>\n",
       "      <td>1-AV-001-PR</td>\n",
       "      <td>Paranapanema</td>\n",
       "      <td>Simple lava (basic | L. crust)</td>\n",
       "      <td>1,68</td>\n",
       "      <td>NaN</td>\n",
       "      <td>NaN</td>\n",
       "    </tr>\n",
       "    <tr>\n",
       "      <th>3</th>\n",
       "      <td>1-AV-001-PR</td>\n",
       "      <td>Paranapanema</td>\n",
       "      <td>Siliciclastics</td>\n",
       "      <td>1,23</td>\n",
       "      <td>1,23</td>\n",
       "      <td>NaN</td>\n",
       "    </tr>\n",
       "    <tr>\n",
       "      <th>4</th>\n",
       "      <td>1-AV-001-PR</td>\n",
       "      <td>Paranapanema</td>\n",
       "      <td>Simple lava (basic | U. crust)</td>\n",
       "      <td>29,81</td>\n",
       "      <td>88,48</td>\n",
       "      <td>0,643196203</td>\n",
       "    </tr>\n",
       "  </tbody>\n",
       "</table>\n",
       "</div>"
      ],
      "text/plain": [
       "          Well          Unit                                   Facies  \\\n",
       "0  1-AV-001-PR  Paranapanema           Simple lava (basic | U. crust)   \n",
       "1  1-AV-001-PR  Paranapanema  Simple lava (basic | massive interior)    \n",
       "2  1-AV-001-PR  Paranapanema           Simple lava (basic | L. crust)   \n",
       "3  1-AV-001-PR  Paranapanema                           Siliciclastics   \n",
       "4  1-AV-001-PR  Paranapanema           Simple lava (basic | U. crust)   \n",
       "\n",
       "  Facies Thickness Flow thickness Core Proportion  \n",
       "0             11,2          31,36     0,589285714  \n",
       "1            18,48            NaN             NaN  \n",
       "2             1,68            NaN             NaN  \n",
       "3             1,23           1,23             NaN  \n",
       "4            29,81          88,48     0,643196203  "
      ]
     },
     "execution_count": 1,
     "metadata": {},
     "output_type": "execute_result"
    }
   ],
   "source": [
    "# Importing libraries\n",
    "import pandas as pd\n",
    "\n",
    "# Reading .csv\n",
    "data = pd.read_csv(r'Data/CSV/1-AV-001-PR.csv', sep=';')\n",
    "data.head()"
   ]
  },
  {
   "cell_type": "markdown",
   "id": "about-render",
   "metadata": {},
   "source": [
    "## Cumulative thickness per geochem group\n",
    "* This code runs throught the WellCad data and calculates the following:"
   ]
  },
  {
   "cell_type": "code",
   "execution_count": null,
   "id": "indie-horse",
   "metadata": {},
   "outputs": [],
   "source": []
  }
 ],
 "metadata": {
  "kernelspec": {
   "display_name": "Python 3",
   "language": "python",
   "name": "python3"
  },
  "language_info": {
   "codemirror_mode": {
    "name": "ipython",
    "version": 3
   },
   "file_extension": ".py",
   "mimetype": "text/x-python",
   "name": "python",
   "nbconvert_exporter": "python",
   "pygments_lexer": "ipython3",
   "version": "3.8.5"
  }
 },
 "nbformat": 4,
 "nbformat_minor": 5
}
