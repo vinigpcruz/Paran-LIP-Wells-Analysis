{
 "cells": [
  {
   "cell_type": "markdown",
   "id": "russian-turkish",
   "metadata": {},
   "source": [
    "# Thickness\n",
    "* This Notebook is used to calculate several thickness-related propeties from the WellCad data\n",
    "Main parts include:\n",
    "- A cumulative thickness per geochem group function/algorithm\n",
    "- XXXXXXXXXXXXXXXXXXXXXXX"
   ]
  },
  {
   "cell_type": "markdown",
   "id": "false-airport",
   "metadata": {},
   "source": [
    "## Importing Libraries and Data"
   ]
  },
  {
   "cell_type": "code",
   "execution_count": 41,
   "id": "pursuant-browser",
   "metadata": {},
   "outputs": [
    {
     "data": {
      "text/html": [
       "<div>\n",
       "<style scoped>\n",
       "    .dataframe tbody tr th:only-of-type {\n",
       "        vertical-align: middle;\n",
       "    }\n",
       "\n",
       "    .dataframe tbody tr th {\n",
       "        vertical-align: top;\n",
       "    }\n",
       "\n",
       "    .dataframe thead th {\n",
       "        text-align: right;\n",
       "    }\n",
       "</style>\n",
       "<table border=\"1\" class=\"dataframe\">\n",
       "  <thead>\n",
       "    <tr style=\"text-align: right;\">\n",
       "      <th></th>\n",
       "      <th>Well</th>\n",
       "      <th>Unit</th>\n",
       "      <th>Facies</th>\n",
       "      <th>Facies Thickness</th>\n",
       "      <th>Flow thickness</th>\n",
       "      <th>Core Proportion</th>\n",
       "    </tr>\n",
       "  </thead>\n",
       "  <tbody>\n",
       "    <tr>\n",
       "      <th>0</th>\n",
       "      <td>1-AV-001-PR</td>\n",
       "      <td>Paranapanema</td>\n",
       "      <td>Simple lava (basic | U. crust)</td>\n",
       "      <td>11.20</td>\n",
       "      <td>31.36</td>\n",
       "      <td>0.589286</td>\n",
       "    </tr>\n",
       "    <tr>\n",
       "      <th>1</th>\n",
       "      <td>1-AV-001-PR</td>\n",
       "      <td>Paranapanema</td>\n",
       "      <td>Simple lava (basic | massive interior)</td>\n",
       "      <td>18.48</td>\n",
       "      <td>NaN</td>\n",
       "      <td>NaN</td>\n",
       "    </tr>\n",
       "    <tr>\n",
       "      <th>2</th>\n",
       "      <td>1-AV-001-PR</td>\n",
       "      <td>Paranapanema</td>\n",
       "      <td>Simple lava (basic | L. crust)</td>\n",
       "      <td>1.68</td>\n",
       "      <td>NaN</td>\n",
       "      <td>NaN</td>\n",
       "    </tr>\n",
       "    <tr>\n",
       "      <th>3</th>\n",
       "      <td>1-AV-001-PR</td>\n",
       "      <td>Paranapanema</td>\n",
       "      <td>Siliciclastics</td>\n",
       "      <td>1.23</td>\n",
       "      <td>1.23</td>\n",
       "      <td>NaN</td>\n",
       "    </tr>\n",
       "    <tr>\n",
       "      <th>4</th>\n",
       "      <td>1-AV-001-PR</td>\n",
       "      <td>Paranapanema</td>\n",
       "      <td>Simple lava (basic | U. crust)</td>\n",
       "      <td>29.81</td>\n",
       "      <td>88.48</td>\n",
       "      <td>0.643196</td>\n",
       "    </tr>\n",
       "  </tbody>\n",
       "</table>\n",
       "</div>"
      ],
      "text/plain": [
       "          Well          Unit                                   Facies  \\\n",
       "0  1-AV-001-PR  Paranapanema           Simple lava (basic | U. crust)   \n",
       "1  1-AV-001-PR  Paranapanema  Simple lava (basic | massive interior)    \n",
       "2  1-AV-001-PR  Paranapanema           Simple lava (basic | L. crust)   \n",
       "3  1-AV-001-PR  Paranapanema                           Siliciclastics   \n",
       "4  1-AV-001-PR  Paranapanema           Simple lava (basic | U. crust)   \n",
       "\n",
       "   Facies Thickness  Flow thickness  Core Proportion  \n",
       "0             11.20           31.36         0.589286  \n",
       "1             18.48             NaN              NaN  \n",
       "2              1.68             NaN              NaN  \n",
       "3              1.23            1.23              NaN  \n",
       "4             29.81           88.48         0.643196  "
      ]
     },
     "execution_count": 41,
     "metadata": {},
     "output_type": "execute_result"
    }
   ],
   "source": [
    "# Importing libraries\n",
    "import pandas as pd\n",
    "import re\n",
    "\n",
    "# Reading .csv\n",
    "data = pd.read_csv(r'Data/CSV/1-AV-001-PR.csv', sep=';', decimal=',') ## Dataset1\n",
    "#data = pd.read_csv(r'Data/CSV/1-CS-002-PR.csv', sep=';', decimal=',') ##Dataset2\n",
    "data.head()"
   ]
  },
  {
   "cell_type": "markdown",
   "id": "minimal-biodiversity",
   "metadata": {},
   "source": [
    "## Cumulative thickness of lava flows per geochem group\n",
    "-----------------------------------------------------------------------------------------------------------------   \n",
    "* This code runs throught the WellCad data and calculates the following:\n",
    "    * Cumulative thickness of lavas per geochem group\n",
    "    * Cumulative thickness of sedimentary beds per geochem group\n",
    "    * Cumulative thickness of volcaniclastic beds per geochem group\n",
    "-----------------------------------------------------------------------------------------------------------------   "
   ]
  },
  {
   "cell_type": "code",
   "execution_count": 39,
   "id": "upset-blood",
   "metadata": {},
   "outputs": [],
   "source": [
    "## Cumulative thickness function definition v0.1\n",
    "## PROBLEM #1 - Some siliciclastic units have \"flow thickness\" value in them while other dont. Needs more standards!!\n",
    "def cum_thickness (data, cumul_thick, thick_dict):\n",
    "    'Calculates the cumulative thickness of lava flows per geochemical group'\n",
    "    'Input: data - pandas df derived from wellcad int; thick_dict - empty dict to append unit:cul_thick pair; cumul_thick - empty list to append data to' \n",
    "    'Output: a dictionary contaning (unit:cumulative thickness)' \n",
    "    'Output: a list with the same number of elements as input data containing cumulative flow thickness values. Used as a new row for input dataframe'\n",
    "    \n",
    "    # defining variables\n",
    "    thick_counter = 0\n",
    "    \n",
    "    # Algorithm:\n",
    "    for i in range(len(data)):\n",
    "        if i == 0: # Setting up first iteration\n",
    "            if data['Facies'].iloc[i] == 'Simple lava (basic | U. crust)' or data['Facies'].iloc[i] == 'Compound lava (basic)' \\\n",
    "            or data['Facies'].iloc[i] == 'Simple lava (basic | rubbly flow top)': # If we're dealing with a new lava flow, grab thickness\n",
    "                thick_counter += round(data['Flow thickness'].iloc[i])\n",
    "                thick_dict[data['Unit'].iloc[i]] = round(thick_counter)\n",
    "                cumul_thick.append(thick_counter)\n",
    "            else:\n",
    "                cumul_thick.append('0')\n",
    "        else: # After first iteration\n",
    "            if data['Unit'].iloc[i] == data['Unit'].iloc[i-1]: # If unit is the same as before, keep going.\n",
    "                if data['Facies'].iloc[i] == 'Simple lava (basic | U. crust)' or data['Facies'].iloc[i] == 'Compound lava (basic)' \\\n",
    "                or data['Facies'].iloc[i] == 'Simple lava (basic | rubbly flow top)': # Look for facies with flow thickness data\n",
    "                    thick_counter += round(data['Flow thickness'].iloc[i])\n",
    "                    thick_dict[data['Unit'].iloc[i]] = round(thick_counter)\n",
    "                    cumul_thick.append(thick_counter)\n",
    "                else: # If no row with flow thickness data is being iterated\n",
    "                    if re.search(r'\\slava\\s', data['Facies'].iloc[i]) != None: # If facies contain the word 'lava':\n",
    "                        cumul_thick.append(thick_counter)\n",
    "                    else:\n",
    "                        cumul_thick.append('-')\n",
    "            else: # If unit changes\n",
    "                if data['Unit'].iloc[i] in thick_dict:  # If unit has already been added as a key to the thick_dict\n",
    "                    thick_dict[data['Unit'].iloc[i-1]] = round(thick_counter)\n",
    "                    thick_counter = round(thick_dict[data['Unit'].iloc[i]])\n",
    "                    cumul_thick.append(thick_counter)\n",
    "                else: # If a new unit is found\n",
    "                    thick_dict[data['Unit'].iloc[i-1]] = round(thick_counter)\n",
    "                    thick_counter = round(data['Flow thickness'].iloc[i])\n",
    "                    thick_dict[data['Unit'].iloc[i]] = round(thick_counter)\n",
    "                    cumul_thick.append(thick_counter)\n",
    "                               \n",
    "  "
   ]
  },
  {
   "cell_type": "code",
   "execution_count": 42,
   "id": "subtle-moses",
   "metadata": {},
   "outputs": [
    {
     "name": "stdout",
     "output_type": "stream",
     "text": [
      "{'Paranapanema': 654, 'Pitanga': 754, 'Vale do Sol': 117}\n",
      "[31, 31, 31, '-', 119, 119, 119, '-', 132, 132, 132, '-', 166, 166, 166, 168, '-', 176, 184, 184, 184, 196, 211, 211, 211, '-', 237, 237, 237, '-', 265, 265, 265, '-', 273, 273, 273, '-', 282, 282, 282, 306, 306, 306, '-', 322, 332, 332, 332, 332, 345, 345, 345, '-', 365, 365, 365, '-', 389, 389, 389, 405, '-', 455, 455, 455, '-', 459, 474, 474, 482, '-', 495, 495, 495, 542, 542, 542, '-', 565, 565, 565, 21, 21, 21, 70, 115, 115, 115, 128, 565, 565, 565, '-', 580, 636, 636, 636, 643, 654, 654, 654, '-', 128, '-', 138, 175, 175, 175, '-', 184, 193, 193, 193, 197, 203, 217, 217, 217, '-', 233, 233, 233, '-', 264, 264, 264, 297, 297, 297, '-', 303, 323, 323, 323, 339, 339, 339, 373, '-', 395, 395, 395, 414, 414, 414, 427, 427, 427, '-', 478, 478, 478, 494, 521, 521, 521, '-', 556, 556, 556, 591, 591, 591, '-', 607, 624, 624, 624, 648, 648, 648, '-', 669, 669, 669, 718, 729, 729, 729, '-', 754, 754, 754, 14, 51, 51, 51, 63, 99, 99, 99, 117]\n"
     ]
    }
   ],
   "source": [
    "# Testing / Debugging\n",
    "cs_pr_dict = {}\n",
    "cs_pr_list = []\n",
    "\n",
    "cum_thickness(data, cs_pr_list, cs_pr_dict)\n",
    "print(cs_pr_dict)\n",
    "print(cs_pr_list)"
   ]
  },
  {
   "cell_type": "markdown",
   "id": "complete-sympathy",
   "metadata": {},
   "source": [
    "-------------------------------------------------------------------------\n",
    "# SEPARATION CELL\n",
    "-------------------------------------------------------------------------"
   ]
  },
  {
   "cell_type": "code",
   "execution_count": null,
   "id": "loved-poetry",
   "metadata": {},
   "outputs": [],
   "source": [
    "## Cumulative thickness of lavas per geochem v0.2\n",
    "# Output:\n",
    "#   --> thick_dict (dict) containg the thickness of lava flow per geochem group\n",
    "#   --> A cumulative thickness row is added to the data table.\n",
    "## PROBLEMS --> Reallyyy verbose. Let's try to generalize this a bit by using regex expressions.\n",
    "\n",
    "\n",
    "# Setting up variables:\n",
    "thick_counter = 0\n",
    "cumul_thick = []\n",
    "thick_dict = {}\n",
    "\n",
    "# Algorithm:\n",
    "for i in range(len(data)):\n",
    "    if i == 0: # Setting up first iteration\n",
    "        if data['Facies'].iloc[i] == 'Simple lava (basic | U. crust)' or data['Facies'].iloc[i] == 'Compound lava (basic)' \\\n",
    "        or data['Facies'].iloc[i] == 'Simple lava (basic | rubbly flow top)': # If we're dealing with a new lava flow, grab thickness\n",
    "            thick_counter += round(data['Flow thickness'].iloc[i])\n",
    "            thick_dict[data['Unit'].iloc[i]] = round(thick_counter)\n",
    "            cumul_thick.append(thick_counter)\n",
    "        else:\n",
    "            cumul_thick.append('0')\n",
    "    else: # After first iteration\n",
    "        if data['Unit'].iloc[i] == data['Unit'].iloc[i-1]: # If unit is the same as before, keep going.\n",
    "            if data['Facies'].iloc[i] == 'Simple lava (basic | U. crust)' or data['Facies'].iloc[i] == 'Compound lava (basic)' \\\n",
    "            or data['Facies'].iloc[i] == 'Simple lava (basic | rubbly flow top)': # Look for facies with flow thickness data\n",
    "                thick_counter += round(data['Flow thickness'].iloc[i])\n",
    "                thick_dict[data['Unit'].iloc[i]] = round(thick_counter)\n",
    "                cumul_thick.append(thick_counter)\n",
    "            else: # If no row with flow thickness data is being iterated\n",
    "                if re.search(r'\\slava\\s', data['Facies'].iloc[i]) != None: # If facies contain the word 'lava':\n",
    "                    cumul_thick.append(thick_counter)\n",
    "                else:\n",
    "                    cumul_thick.append('-')\n",
    "        else: # If unit changes\n",
    "            if data['Unit'].iloc[i] in thick_dict:  # If unit has already been added as a key to the thick_dict\n",
    "                thick_dict[data['Unit'].iloc[i-1]] = round(thick_counter)\n",
    "                thick_counter = round(thick_dict[data['Unit'].iloc[i]])\n",
    "                cumul_thick.append(thick_counter)\n",
    "            else: # If a new unit is found\n",
    "                thick_dict[data['Unit'].iloc[i-1]] = round(thick_counter)\n",
    "                thick_counter = round(data['Flow thickness'].iloc[i])\n",
    "                thick_dict[data['Unit'].iloc[i]] = round(thick_counter)\n",
    "                cumul_thick.append(thick_counter)\n",
    "\n",
    "# Checking\n",
    "print(thick_dict)\n",
    "data['Cumul thick'] = cumul_thick\n",
    "data.head(84)"
   ]
  },
  {
   "cell_type": "code",
   "execution_count": null,
   "id": "voluntary-privilege",
   "metadata": {},
   "outputs": [],
   "source": [
    "# Regex debugging \n",
    "if re.search(r'\\sU.\\s', data['Facies'].iloc[0]) != None:\n",
    "    print('Working!')\n",
    "else:\n",
    "    print('Not working :(')"
   ]
  },
  {
   "cell_type": "code",
   "execution_count": null,
   "id": "novel-greene",
   "metadata": {},
   "outputs": [],
   "source": [
    "x = re.split(r'\\s', data['Facies'].iloc[0])\n",
    "print(re.search(r'U.', data['Facies'].iloc[0]))"
   ]
  },
  {
   "cell_type": "code",
   "execution_count": null,
   "id": "biblical-start",
   "metadata": {},
   "outputs": [],
   "source": []
  }
 ],
 "metadata": {
  "kernelspec": {
   "display_name": "Python 3",
   "language": "python",
   "name": "python3"
  },
  "language_info": {
   "codemirror_mode": {
    "name": "ipython",
    "version": 3
   },
   "file_extension": ".py",
   "mimetype": "text/x-python",
   "name": "python",
   "nbconvert_exporter": "python",
   "pygments_lexer": "ipython3",
   "version": "3.8.5"
  }
 },
 "nbformat": 4,
 "nbformat_minor": 5
}
